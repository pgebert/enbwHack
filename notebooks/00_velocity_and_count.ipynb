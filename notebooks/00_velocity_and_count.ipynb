{
 "cells": [
  {
   "cell_type": "code",
   "execution_count": 18,
   "metadata": {},
   "outputs": [],
   "source": [
    "import pandas as pd\n",
    "import numpy as np\n",
    "import matplotlib.pyplot as plt"
   ]
  },
  {
   "cell_type": "code",
   "execution_count": 19,
   "metadata": {},
   "outputs": [],
   "source": [
    "df1 = pd.read_csv('../../magentacloud/output_Marktplatz-20180410-141306.csv')\n",
    "df1 = df1[df1['w']<100] # filter large boxes"
   ]
  },
  {
   "cell_type": "code",
   "execution_count": 20,
   "metadata": {},
   "outputs": [],
   "source": [
    "df1['distance'] = df1.groupby(['track_id']).diff().dropna().apply(\n",
    "    lambda row : np.sqrt((row['x']*.026)**2 + (row['y']*.037)**2), axis = 1)\n",
    "df1['frame_diff'] = df1.groupby(['track_id'])[['frame_id']].diff()"
   ]
  },
  {
   "cell_type": "code",
   "execution_count": 21,
   "metadata": {},
   "outputs": [
    {
     "name": "stderr",
     "output_type": "stream",
     "text": [
      "/home/florian/anaconda3/lib/python3.6/site-packages/pandas/core/groupby.py:796: FutureWarning: pd.rolling_mean is deprecated for Series and will be removed in a future version, replace with \n",
      "\tSeries.rolling(window=5,min_periods=1,center=False).mean()\n",
      "  return func(g, *args, **kwargs)\n"
     ]
    }
   ],
   "source": [
    "df1['velocity'] = df1['distance'] / ( df1['frame_diff'] * (1.0/30))\n",
    "df1['velocity_smooth'] = df1.groupby(['track_id'])['velocity'].apply(pd.rolling_mean, 5, min_periods=1)"
   ]
  },
  {
   "cell_type": "code",
   "execution_count": 22,
   "metadata": {},
   "outputs": [],
   "source": [
    "counts = df1.groupby(['frame_id']).count().reset_index()[['frame_id', 'track_id']].rename({'track_id':'count'},axis=1)"
   ]
  },
  {
   "cell_type": "code",
   "execution_count": 23,
   "metadata": {},
   "outputs": [],
   "source": [
    "df2 = pd.merge(df1,counts,on='frame_id')"
   ]
  },
  {
   "cell_type": "code",
   "execution_count": 13,
   "metadata": {},
   "outputs": [],
   "source": [
    "df2 = df2.sort_values(['frame_id','velocity_smooth'], ascending=False).drop_duplicates(['frame_id']).sort_values('frame_id')"
   ]
  },
  {
   "cell_type": "code",
   "execution_count": 28,
   "metadata": {},
   "outputs": [],
   "source": [
    "json = df2[['frame_id', 'track_id', 'velocity_smooth', 'count']].to_json(orient='records')"
   ]
  },
  {
   "cell_type": "code",
   "execution_count": 29,
   "metadata": {},
   "outputs": [],
   "source": [
    "with open(\"json2.txt\", \"w\") as text_file:\n",
    "    text_file.write(json)"
   ]
  },
  {
   "cell_type": "code",
   "execution_count": null,
   "metadata": {},
   "outputs": [],
   "source": []
  }
 ],
 "metadata": {
  "kernelspec": {
   "display_name": "Python 3",
   "language": "python",
   "name": "python3"
  },
  "language_info": {
   "codemirror_mode": {
    "name": "ipython",
    "version": 3
   },
   "file_extension": ".py",
   "mimetype": "text/x-python",
   "name": "python",
   "nbconvert_exporter": "python",
   "pygments_lexer": "ipython3",
   "version": "3.6.4"
  }
 },
 "nbformat": 4,
 "nbformat_minor": 2
}
